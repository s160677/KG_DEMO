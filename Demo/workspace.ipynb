{
 "cells": [
  {
   "cell_type": "code",
   "execution_count": 3,
   "id": "9f0c3cc3",
   "metadata": {},
   "outputs": [],
   "source": [
    "NEO4J_URI = \"bolt://localhost:7687\"\n",
    "NEO4J_USER = \"neo4j\"\n",
    "NEO4J_PASSWORD = \"J&hP3eOr%cXj8mV3\"\n",
    "NEO4J_DATABASE = \"neo4j\"   # change if you use another db\n",
    "\n",
    "from neo4j import GraphDatabase\n",
    "\n",
    "# URI examples: \"neo4j://localhost\", \"neo4j+s://xxx.databases.neo4j.io\"\n",
    "URI = NEO4J_URI\n",
    "AUTH = (NEO4J_USER, NEO4J_PASSWORD)"
   ]
  },
  {
   "cell_type": "code",
   "execution_count": 4,
   "id": "652f0d48",
   "metadata": {},
   "outputs": [
    {
     "name": "stdout",
     "output_type": "stream",
     "text": [
      "Result query has: 28 nodes, 25 relationships\n"
     ]
    }
   ],
   "source": [
    "from neo4j import Result, RoutingControl\n",
    "\n",
    "with GraphDatabase.driver(URI, auth=AUTH) as driver:\n",
    "    driver.verify_connectivity()\n",
    "\n",
    "    result = driver.execute_query(\n",
    "        \"MATCH p=()-[:activates]->() RETURN p LIMIT 25\", # need the LLM to write this query based on a natural language query from the user\n",
    "        database_=\"neo4j\",\n",
    "        routing_=RoutingControl.READ,\n",
    "        result_transformer_=Result.graph,\n",
    "    )\n",
    "\n",
    "    result\n",
    "\n",
    "print(\n",
    "    f\"Result query has: {len(result.nodes)} nodes, {len(result.relationships)} relationships\"\n",
    ")"
   ]
  },
  {
   "cell_type": "code",
   "execution_count": 25,
   "id": "46541294",
   "metadata": {},
   "outputs": [
    {
     "name": "stdout",
     "output_type": "stream",
     "text": [
      "Error creating visualization: 'Node' object has no attribute 'tui'\n"
     ]
    }
   ],
   "source": [
    "from neo4j_viz.neo4j import from_neo4j\n",
    "from neo4j_viz.colors import ColorSpace\n",
    "import math\n",
    "\n",
    "def create_visualization_graph(neo4j_result):\n",
    "    \"\"\"Create visualization graph with node captions and TUI-based colors\"\"\"\n",
    "    try:\n",
    "        VG = from_neo4j(neo4j_result)\n",
    "\n",
    "        for node in VG.nodes:\n",
    "            # Set caption\n",
    "            node.caption = node.properties.get(\"name\") or \", \".join(node.labels)\n",
    "\n",
    "            # Get TUI safely\n",
    "            tui_val = node.properties.get(\"tui\", None)\n",
    "\n",
    "            # Handle None or NaN\n",
    "            if tui_val is None or (isinstance(tui_val, float) and math.isnan(tui_val)):\n",
    "                tui_val = \"unknown\"\n",
    "\n",
    "            # Always convert to string\n",
    "            tui_val = str(tui_val)\n",
    "\n",
    "            # If multiple TUIs, pick the first\n",
    "            if \",\" in tui_val:\n",
    "                tui_val = tui_val.split(\",\")[0].strip()\n",
    "\n",
    "            # Overwrite back into node properties so color_nodes can see it\n",
    "            node.properties[\"tui\"] = tui_val\n",
    "\n",
    "        # Now color all nodes based on tui property\n",
    "        VG.color_nodes(\n",
    "            field=\"tui\",\n",
    "            colors=None,  # default palette\n",
    "            color_space=ColorSpace.DISCRETE,\n",
    "            override=True\n",
    "        )\n",
    "\n",
    "        return VG.render()\n",
    "    except Exception as e:\n",
    "        print(f\"Error creating visualization: {str(e)}\")\n",
    "        return None\n",
    "\n",
    "\n",
    "create_visualization_graph(result)"
   ]
  },
  {
   "cell_type": "code",
   "execution_count": 22,
   "id": "1cf4af65",
   "metadata": {},
   "outputs": [
    {
     "name": "stdout",
     "output_type": "stream",
     "text": [
      "PROPS: {'cui': 'C0021745', 'name': 'interferon type II', 'description': 'The major interferon produced by mitogenically or antigenically stimulated LYMPHOCYTES. It is structurally different from TYPE I INTERFERON and its major activity is immunoregulation. It has been implicated in the expression of CLASS II HISTOCOMPATIBILITY ANTIGENS in cells that do not normally produce them, leading to AUTOIMMUNE DISEASES.', 'tui': 'T116,T121,T129', 'labels': ['Entity']}\n",
      "HAS TUI: True\n",
      "TUI value: T116,T121,T129\n",
      "Node attributes: ['__abstractmethods__', '__annotations__', '__class__', '__class_getitem__', '__class_vars__', '__copy__', '__deepcopy__', '__delattr__', '__dict__', '__dir__', '__doc__', '__eq__', '__fields__', '__fields_set__', '__format__', '__ge__', '__get_pydantic_core_schema__', '__get_pydantic_json_schema__', '__getattr__', '__getattribute__', '__getstate__', '__gt__', '__hash__', '__init__', '__init_subclass__', '__iter__', '__le__', '__lt__', '__module__', '__ne__', '__new__', '__pretty__', '__private_attributes__', '__pydantic_complete__', '__pydantic_computed_fields__', '__pydantic_core_schema__', '__pydantic_custom_init__', '__pydantic_decorators__', '__pydantic_extra__', '__pydantic_fields__', '__pydantic_fields_set__', '__pydantic_generic_metadata__', '__pydantic_init_subclass__', '__pydantic_parent_namespace__', '__pydantic_post_init__', '__pydantic_private__', '__pydantic_root_model__', '__pydantic_serializer__', '__pydantic_setattr_handlers__', '__pydantic_validator__', '__reduce__', '__reduce_ex__', '__replace__', '__repr__', '__repr_args__', '__repr_name__', '__repr_recursion__', '__repr_str__', '__rich_repr__', '__setattr__', '__setstate__', '__signature__', '__sizeof__', '__slots__', '__str__', '__subclasshook__', '__weakref__', '_abc_impl', '_calculate_keys', '_copy_and_set_values', '_get_value', '_iter', '_setattr_handler', 'all_validation_aliases', 'caption', 'caption_align', 'caption_size', 'cast_color', 'color', 'construct', 'copy', 'dict', 'from_orm', 'id', 'json', 'model_computed_fields', 'model_config', 'model_construct', 'model_copy', 'model_dump', 'model_dump_json', 'model_extra', 'model_fields', 'model_fields_set', 'model_json_schema', 'model_parametrized_name', 'model_post_init', 'model_rebuild', 'model_validate', 'model_validate_json', 'model_validate_strings', 'parse_file', 'parse_obj', 'parse_raw', 'pinned', 'properties', 'schema', 'schema_json', 'serialize_color', 'serialize_id', 'size', 'to_dict', 'update_forward_refs', 'validate', 'x', 'y']\n"
     ]
    }
   ],
   "source": [
    "VG = from_neo4j(result)\n",
    "\n",
    "node0 = VG.nodes[0]\n",
    "print(\"PROPS:\", node0.properties)\n",
    "print(\"HAS TUI:\", \"tui\" in node0.properties)\n",
    "print(\"TUI value:\", node0.properties.get(\"tui\"))\n",
    "print(\"Node attributes:\", dir(node0))"
   ]
  },
  {
   "cell_type": "code",
   "execution_count": null,
   "id": "7d16cdf1",
   "metadata": {},
   "outputs": [],
   "source": []
  },
  {
   "cell_type": "code",
   "execution_count": null,
   "id": "a3935258",
   "metadata": {},
   "outputs": [],
   "source": []
  }
 ],
 "metadata": {
  "kernelspec": {
   "display_name": "kgvenv_new",
   "language": "python",
   "name": "python3"
  },
  "language_info": {
   "codemirror_mode": {
    "name": "ipython",
    "version": 3
   },
   "file_extension": ".py",
   "mimetype": "text/x-python",
   "name": "python",
   "nbconvert_exporter": "python",
   "pygments_lexer": "ipython3",
   "version": "3.12.11"
  }
 },
 "nbformat": 4,
 "nbformat_minor": 5
}
